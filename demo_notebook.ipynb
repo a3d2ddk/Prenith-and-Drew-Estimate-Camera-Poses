{
 "cells": [
  {
   "cell_type": "markdown",
   "id": "ee52ef34",
   "metadata": {},
   "source": [
    "Clone the github repo and downlaod the images to the local folder"
   ]
  },
  {
   "cell_type": "code",
   "execution_count": null,
   "id": "b0b2ed88",
   "metadata": {},
   "outputs": [],
   "source": [
    "!pip install -q gradio"
   ]
  },
  {
   "cell_type": "code",
   "execution_count": null,
   "id": "c7365c60",
   "metadata": {},
   "outputs": [],
   "source": [
    "# Clone and run\n",
    "import subprocess\n",
    "import os\n",
    "import shutil\n",
    "from google.colab import files\n",
    "\n",
    "# Clone repo\n",
    "subprocess.run([\"git\", \"clone\", \"https://github.com/a3d2ddk/Prenith-and-Drew-Estimate-Camera-Poses.git\"], capture_output=True)\n",
    "os.chdir(\"Prenith-and-Drew-Estimate-Camera-Poses\")\n",
    "\n",
    "# Download images as zip\n",
    "if os.path.exists(\"content/images\"):\n",
    "    shutil.make_archive(\"pose_estimation_images\", \"zip\", \"content/images\")\n",
    "    files.download(\"pose_estimation_images.zip\")\n",
    "    print(\"Images downloaded as zip file - extract to your Documents folder\")\n",
    "\n",
    "# Run your pose estimation script\n",
    "exec(open('pose_estimation_demo.py').read())"
   ]
  }
 ],
 "metadata": {
  "kernelspec": {
   "display_name": "Python 3",
   "language": "python",
   "name": "python3"
  },
  "language_info": {
   "name": "python",
   "version": "3.10.18"
  }
 },
 "nbformat": 4,
 "nbformat_minor": 5
}
