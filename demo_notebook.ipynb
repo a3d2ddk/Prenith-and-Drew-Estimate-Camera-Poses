{
 "cells": [
  {
   "cell_type": "markdown",
   "id": "ee52ef34",
   "metadata": {},
   "source": [
    "Clone the github repo and downlaod the images to the local folder"
   ]
  },
  {
   "cell_type": "code",
   "execution_count": null,
   "id": "c7365c60",
   "metadata": {
    "vscode": {
     "languageId": "plaintext"
    }
   },
   "outputs": [],
   "source": []
  }
 ],
 "metadata": {
  "language_info": {
   "name": "python"
  }
 },
 "nbformat": 4,
 "nbformat_minor": 5
}
