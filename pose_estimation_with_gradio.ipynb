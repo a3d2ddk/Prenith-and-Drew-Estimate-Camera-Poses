{
 "cells": [
  {
   "cell_type": "code",
   "execution_count": 4,
   "id": "ffe8c751-91b0-4821-af52-bafe64cb10c4",
   "metadata": {},
   "outputs": [],
   "source": [
    "import scipy\n",
    "import numpy as np"
   ]
  },
  {
   "cell_type": "code",
   "execution_count": null,
   "id": "b4a8804c-e34a-4e51-81ab-50e304f48817",
   "metadata": {},
   "outputs": [],
   "source": [
    "@staticmethod\n",
    "def learn_homography(X, W):\n",
    "    assert(x.shape == w.shape)\n",
    "\n",
    "    u = W[0,:]\n",
    "    v = W[1,:]\n",
    "\n",
    "    x = X[0,:]\n",
    "    y = X[1,:]\n",
    "\n",
    "    I = u.shape[0]\n",
    "\n",
    "    A = np.zeros((2*I, 9))\n",
    "    j = 0\n",
    "    for i in range(0,I):\n",
    "        A[j,:]  = [0, 0, 0, -u[i], -v[i], -1, y[i]*u[i], y[i]*v[i], y[i]]\n",
    "        A[j+1,:]  = [u[i], v[i], 1, 0, 0, 0, -x[i]*u[i], -x[i]*v[i], -x[i]]\n",
    "        j = j + 2\n",
    "\n",
    "    U, D, V = np.linalg.svd(A)\n",
    "\n",
    "    phi_h = V.T[:,-1]\n",
    "\n",
    "    phi_hr = scipy.optimize.minimize(obj_funct,x0=phi_h, args=(x, y, u, v))\n",
    "\n",
    "    phi = np.reshape(phi_hr.x, (3,3))\n",
    "    \n",
    "    return phi\n",
    "\n",
    "\n",
    "@staticmethod\n",
    "def obj_funct(phi, x, y, u, v):\n",
    "\n",
    "    I = x.shape[0]\n",
    "\n",
    "    sum_squares = 0.0\n",
    "\n",
    "    for i in range(0,I):\n",
    "        # Denominator is common to both x and y produced by model.\n",
    "        d = phi[6] * u[i] + phi[7] * v[i] + phi[8]\n",
    "\n",
    "        # Numerator of x from model\n",
    "        n1 = phi[0] * u[i] + phi[1] * v[i] + phi[2]\n",
    "        x_model = n1 / d\n",
    "\n",
    "        # Numerator of y from model\n",
    "        n2 = phi[3] * u[i] + phi[4] * v[i] + phi[5]\n",
    "        y_model = n2 / d\n",
    "\n",
    "        # Squared norm\n",
    "        squared_norm = ( x[i] - x_model )**2 +  ( y[i] - y_model )**2\n",
    "\n",
    "        # Sum of squared norms\n",
    "        sum_squares = sum_squares + squared_norm\n",
    "\n",
    "    return sum_squares\n",
    "\n",
    "\n",
    "@staticmethod\n",
    "def get_pose(lam, X, W):\n",
    "    \n",
    "    return"
   ]
  },
  {
   "cell_type": "code",
   "execution_count": 3,
   "id": "db063b82-a72c-4dbb-985e-bbd782930fd2",
   "metadata": {},
   "outputs": [
    {
     "name": "stdout",
     "output_type": "stream",
     "text": [
      "[   0. 1000. 1000.    0.]\n"
     ]
    }
   ],
   "source": []
  },
  {
   "cell_type": "code",
   "execution_count": null,
   "id": "dcd17baf-7143-4ad1-8ae2-541cef4cd469",
   "metadata": {},
   "outputs": [],
   "source": []
  }
 ],
 "metadata": {
  "kernelspec": {
   "display_name": "Python 3 (ipykernel)",
   "language": "python",
   "name": "python3"
  },
  "language_info": {
   "codemirror_mode": {
    "name": "ipython",
    "version": 3
   },
   "file_extension": ".py",
   "mimetype": "text/x-python",
   "name": "python",
   "nbconvert_exporter": "python",
   "pygments_lexer": "ipython3",
   "version": "3.13.5"
  }
 },
 "nbformat": 4,
 "nbformat_minor": 5
}
